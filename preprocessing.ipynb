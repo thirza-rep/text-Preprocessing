{
 "cells": [
  {
   "cell_type": "code",
   "execution_count": 7,
   "id": "62b944b4-310d-4440-aa26-eca9adb920c4",
   "metadata": {},
   "outputs": [
    {
     "name": "stdout",
     "output_type": "stream",
     "text": [
      "Requirement already satisfied: sastrawi in c:\\users\\user\\anaconda3\\lib\\site-packages (1.0.1)\n"
     ]
    }
   ],
   "source": [
    "!pip install sastrawi"
   ]
  },
  {
   "cell_type": "code",
   "execution_count": 1,
   "id": "470dc2f6-ce0b-4778-a0a6-36d22bddb4e1",
   "metadata": {},
   "outputs": [
    {
     "name": "stdout",
     "output_type": "stream",
     "text": [
      "Dokumen: Barangnya sesuai harapan, cakep dan mulus. Penjualnya juga baik dan ramah. Overall, puas banget belanja di sini.\n",
      "Case Folding : barangnya sesuai harapan, cakep dan mulus. penjualnya juga baik dan ramah. overall, puas banget belanja di sini.\n",
      "Token:\n",
      "['barangnya', 'sesuai', 'harapan', 'cakep', 'dan', 'mulus', 'penjualnya', 'juga', 'baik', 'dan', 'ramah', 'overall', 'puas', 'banget', 'belanja', 'di', 'sini']\n",
      "Hasil Stemming:\n",
      "barang sesuai harap cakep dan mulus jual juga baik dan ramah overall puas banget belanja di sini\n",
      "Hasil Setelah Stopword Removal:\n",
      "['barang', 'sesuai', 'harap', 'cakep', 'mulus', 'jual', 'baik', 'ramah', 'overall', 'puas', 'banget', 'belanja', 'sini']\n"
     ]
    }
   ],
   "source": [
    "# Dokumen awal\n",
    "dokumen1 = \"Barangnya sesuai harapan, cakep dan mulus. Penjualnya juga baik dan ramah. Overall, puas banget belanja di sini.\"\n",
    "print(\"Dokumen: \" + dokumen1)\n",
    "# Case Folding\n",
    "hasil_cf = str.lower(dokumen1)\n",
    "print(\"Case Folding : \" + hasil_cf)\n",
    "# Tokenizing\n",
    "from nltk.tokenize import RegexpTokenizer\n",
    "tokenizer = RegexpTokenizer(r'\\w+')\n",
    "hasil_token = tokenizer.tokenize(hasil_cf)\n",
    "print(\"Token:\")\n",
    "print(hasil_token)\n",
    "# Stemming\n",
    "from Sastrawi.Stemmer.StemmerFactory import StemmerFactory\n",
    "factory = StemmerFactory()\n",
    "stemmer = factory.create_stemmer()\n",
    "input_stemm = str(hasil_token)\n",
    "hasil_stemm = stemmer.stem(input_stemm)\n",
    "print(\"Hasil Stemming:\")\n",
    "print(hasil_stemm)\n",
    "# Filtering (Stopword Removal)\n",
    "# Tokenisasi ulang hasil stemming\n",
    "token_stemm = tokenizer.tokenize(hasil_stemm)\n",
    "\n",
    "# Ambil daftar stopwords\n",
    "from Sastrawi.StopWordRemover.StopWordRemoverFactory import StopWordRemoverFactory\n",
    "stop_factory = StopWordRemoverFactory()\n",
    "stopwords = stop_factory.get_stop_words()\n",
    "\n",
    "# Hapus stopwords dari hasil stemming\n",
    "hasil_final = [word for word in token_stemm if word not in stopwords]\n",
    "print(\"Hasil Setelah Stopword Removal:\")\n",
    "print(hasil_final)"
   ]
  },
  {
   "cell_type": "code",
   "execution_count": null,
   "id": "c29996e4-92bb-4612-b5b9-df046310faf5",
   "metadata": {},
   "outputs": [],
   "source": []
  }
 ],
 "metadata": {
  "kernelspec": {
   "display_name": "Python [conda env:base] *",
   "language": "python",
   "name": "conda-base-py"
  },
  "language_info": {
   "codemirror_mode": {
    "name": "ipython",
    "version": 3
   },
   "file_extension": ".py",
   "mimetype": "text/x-python",
   "name": "python",
   "nbconvert_exporter": "python",
   "pygments_lexer": "ipython3",
   "version": "3.12.7"
  }
 },
 "nbformat": 4,
 "nbformat_minor": 5
}
